{
 "cells": [
  {
   "cell_type": "code",
   "execution_count": 1,
   "metadata": {},
   "outputs": [
    {
     "data": {
      "text/plain": [
       "<All keys matched successfully>"
      ]
     },
     "execution_count": 1,
     "metadata": {},
     "output_type": "execute_result"
    }
   ],
   "source": [
    "from occupancy.pipelines.autoencoderkl_3d import AutoEncoderKL3d, AutoEncoderKL3dConfig\n",
    "import torch\n",
    "import math\n",
    "import logging\n",
    "from torch import nn, Tensor, onnx\n",
    "vae3d = AutoEncoderKL3d(1, 1, 16, exportable=True)\n",
    "vae3d.load_state_dict(torch.load('/home/zc2309/workspace/occupancy/models/autoencoderkl-cls1.pt'))"
   ]
  },
  {
   "cell_type": "code",
   "execution_count": 2,
   "metadata": {},
   "outputs": [
    {
     "data": {
      "text/plain": [
       "Sequential(\n",
       "  (0): Conv3d(1, 64, kernel_size=(1, 1, 1), stride=(1, 1, 1))\n",
       "  (1): UnetEncoderLayer3d(\n",
       "    (norm1): SpatialRMSNorm()\n",
       "    (conv1): Conv3d(64, 128, kernel_size=(3, 3, 3), stride=(1, 1, 1), padding=(1, 1, 1))\n",
       "    (norm2): SpatialRMSNorm()\n",
       "    (conv2): Conv3d(128, 128, kernel_size=(3, 3, 3), stride=(1, 1, 1), padding=(1, 1, 1))\n",
       "    (shorcut): Conv3d(64, 128, kernel_size=(1, 1, 1), stride=(1, 1, 1))\n",
       "    (downsample): Conv3d(128, 128, kernel_size=(2, 2, 2), stride=(2, 2, 2))\n",
       "    (nonlinear): SiLU(inplace=True)\n",
       "  )\n",
       "  (2): UnetEncoderLayer3d(\n",
       "    (norm1): SpatialRMSNorm()\n",
       "    (conv1): Conv3d(128, 256, kernel_size=(3, 3, 3), stride=(1, 1, 1), padding=(1, 1, 1))\n",
       "    (norm2): SpatialRMSNorm()\n",
       "    (conv2): Conv3d(256, 256, kernel_size=(3, 3, 3), stride=(1, 1, 1), padding=(1, 1, 1))\n",
       "    (shorcut): Conv3d(128, 256, kernel_size=(1, 1, 1), stride=(1, 1, 1))\n",
       "    (downsample): Conv3d(256, 256, kernel_size=(2, 2, 2), stride=(2, 2, 2))\n",
       "    (nonlinear): SiLU(inplace=True)\n",
       "  )\n",
       "  (3): UnetEncoderLayer3d(\n",
       "    (norm1): SpatialRMSNorm()\n",
       "    (conv1): Conv3d(256, 512, kernel_size=(3, 3, 3), stride=(1, 1, 1), padding=(1, 1, 1))\n",
       "    (norm2): SpatialRMSNorm()\n",
       "    (conv2): Conv3d(512, 512, kernel_size=(3, 3, 3), stride=(1, 1, 1), padding=(1, 1, 1))\n",
       "    (shorcut): Conv3d(256, 512, kernel_size=(1, 1, 1), stride=(1, 1, 1))\n",
       "    (downsample): Conv3d(512, 512, kernel_size=(2, 2, 2), stride=(2, 2, 2))\n",
       "    (nonlinear): SiLU(inplace=True)\n",
       "  )\n",
       "  (4): ExportableAttentionLayer3d(\n",
       "    (norm): RMSNorm()\n",
       "    (attention): ExportableAttention(\n",
       "      (q_proj): Linear(in_features=512, out_features=512, bias=True)\n",
       "      (k_proj): Linear(in_features=512, out_features=512, bias=True)\n",
       "      (v_proj): Linear(in_features=512, out_features=512, bias=True)\n",
       "      (out_proj): Linear(in_features=512, out_features=512, bias=True)\n",
       "      (rotary): RotaryEmbedding()\n",
       "    )\n",
       "  )\n",
       "  (5): SpatialRMSNorm()\n",
       "  (6): SiLU(inplace=True)\n",
       "  (7): Conv3d(512, 32, kernel_size=(1, 1, 1), stride=(1, 1, 1))\n",
       ")"
      ]
     },
     "execution_count": 2,
     "metadata": {},
     "output_type": "execute_result"
    }
   ],
   "source": [
    "torch.nn.functional.elu()"
   ]
  },
  {
   "cell_type": "code",
   "execution_count": 3,
   "metadata": {},
   "outputs": [],
   "source": [
    "from typing import Optional\n",
    "\n",
    "\n",
    "tensor_x = torch.rand(1, 1, 256, 256, 32).float()\n",
    "tensor_y = torch.rand(1, 16, 32, 32, 4).float()\n",
    "vae3d = vae3d.float()\n",
    "encoder_onnx = onnx.dynamo_export(vae3d.encoder, tensor_x)\n",
    "decoder_onnx = onnx.dynamo_export(vae3d.decoder, tensor_y)"
   ]
  },
  {
   "cell_type": "code",
   "execution_count": 4,
   "metadata": {},
   "outputs": [],
   "source": [
    "encoder_onnx.save('autoencoderkl-cls1-encoder.onnx')\n",
    "decoder_onnx.save('autoencoderkl-cls1-decoder.onnx')"
   ]
  }
 ],
 "metadata": {
  "kernelspec": {
   "display_name": "base",
   "language": "python",
   "name": "python3"
  },
  "language_info": {
   "codemirror_mode": {
    "name": "ipython",
    "version": 3
   },
   "file_extension": ".py",
   "mimetype": "text/x-python",
   "name": "python",
   "nbconvert_exporter": "python",
   "pygments_lexer": "ipython3",
   "version": "3.11.7"
  }
 },
 "nbformat": 4,
 "nbformat_minor": 2
}

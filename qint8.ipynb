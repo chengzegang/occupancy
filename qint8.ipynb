{
 "cells": [
  {
   "cell_type": "code",
   "execution_count": 1,
   "metadata": {},
   "outputs": [
    {
     "data": {
      "text/plain": [
       "<All keys matched successfully>"
      ]
     },
     "execution_count": 1,
     "metadata": {},
     "output_type": "execute_result"
    }
   ],
   "source": [
    "from occupancy.pipelines.autoencoderkl_3d import AutoEncoderKL3d, AutoEncoderKL3dConfig\n",
    "import torch\n",
    "import math\n",
    "import logging\n",
    "from torch import nn, Tensor, onnx\n",
    "vae3d = AutoEncoderKL3d(1, 1, 16)\n",
    "vae3d.load_state_dict(torch.load('/home/zc2309/workspace/occupancy/models/autoencoderkl-cls1.pt'))"
   ]
  },
  {
   "cell_type": "code",
   "execution_count": 2,
   "metadata": {},
   "outputs": [],
   "source": [
    "from typing import Optional\n",
    "\n",
    "\n",
    "tensor_x = torch.rand(1, 1, 256, 256, 32).float()\n",
    "tensor_y = torch.rand(1, 16, 32, 32, 4).float()\n",
    "vae3d = vae3d.float()\n",
    "encoder_onnx = onnx.dynamo_export(vae3d.encoder, tensor_x)\n",
    "decoder_onnx = onnx.dynamo_export(vae3d.decoder, tensor_y)"
   ]
  },
  {
   "cell_type": "code",
   "execution_count": 3,
   "metadata": {},
   "outputs": [],
   "source": [
    "encoder_onnx.save('autoencoderkl-cls1-encoder.onnx')\n",
    "decoder_onnx.save('autoencoderkl-cls1-decoder.onnx')"
   ]
  },
  {
   "cell_type": "code",
   "execution_count": null,
   "metadata": {},
   "outputs": [],
   "source": [
    "import onnx\n",
    "import onnx_tensorrt.backend as backend\n",
    "import numpy as np\n",
    "\n",
    "model = onnx.load(\"/path/to/model.onnx\")\n",
    "engine = backend.prepare(model, device='CUDA:1')\n",
    "input_data = np.random.random(size=(32, 3, 224, 224)).astype(np.float32)\n",
    "output_data = engine.run(input_data)[0]\n",
    "print(output_data)\n",
    "print(output_data.shape)"
   ]
  }
 ],
 "metadata": {
  "kernelspec": {
   "display_name": "base",
   "language": "python",
   "name": "python3"
  },
  "language_info": {
   "codemirror_mode": {
    "name": "ipython",
    "version": 3
   },
   "file_extension": ".py",
   "mimetype": "text/x-python",
   "name": "python",
   "nbconvert_exporter": "python",
   "pygments_lexer": "ipython3",
   "version": "3.11.7"
  }
 },
 "nbformat": 4,
 "nbformat_minor": 2
}

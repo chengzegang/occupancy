{
 "cells": [
  {
   "cell_type": "code",
   "execution_count": 1,
   "metadata": {},
   "outputs": [],
   "source": [
    "from torch import fx\n",
    "from torch.quantization.quantize_fx import prepare_fx, convert_fx\n",
    "from torch.ao.quantization import QConfig, QConfigMapping, default_qconfig\n",
    "from occupancy.pipelines.autoencoderkl_3d_qint8 import AutoEncoderKL3d\n",
    "import torch\n",
    "model = AutoEncoderKL3d(1, 1, 16)\n",
    "example_inputs = torch.randn(1, 1, 256, 256, 32)\n",
    "qconfig_mapping = QConfigMapping().set_global(default_qconfig)\n",
    "\n",
    "\n",
    "model.encoder = prepare_fx(model.encoder, qconfig_mapping, example_inputs)\n",
    "  \n",
    "#model_prepared = prepare_fx(\n",
    "#    model_fp32,\n",
    "#    qconfig_mapping,\n",
    "#    example_inputs,\n",
    "#    prepare_custom_config_dict=prepare_custom_config_dict,\n",
    "#)"
   ]
  },
  {
   "cell_type": "code",
   "execution_count": null,
   "metadata": {},
   "outputs": [],
   "source": []
  }
 ],
 "metadata": {
  "kernelspec": {
   "display_name": "base",
   "language": "python",
   "name": "python3"
  },
  "language_info": {
   "codemirror_mode": {
    "name": "ipython",
    "version": 3
   },
   "file_extension": ".py",
   "mimetype": "text/x-python",
   "name": "python",
   "nbconvert_exporter": "python",
   "pygments_lexer": "ipython3",
   "version": "3.11.7"
  }
 },
 "nbformat": 4,
 "nbformat_minor": 2
}
